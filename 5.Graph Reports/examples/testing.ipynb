{
 "cells": [
  {
   "cell_type": "code",
   "execution_count": 6,
   "outputs": [
    {
     "data": {
      "text/plain": "        id                                         characters  \\\nid                                                              \n1        1  {'edges': [{'node': {'id': 1}, 'role': 'MAIN'}...   \n5        5  {'edges': [{'node': {'id': 1}, 'role': 'MAIN'}...   \n6        6  {'edges': [{'node': {'id': 6750}, 'role': 'SUP...   \n7        7  {'edges': [{'node': {'id': 302}, 'role': 'MAIN...   \n8        8  {'edges': [{'node': {'id': 9058}, 'role': 'MAI...   \n...    ...                                                ...   \n7494  7494                                      {'edges': []}   \n7495  7495                                      {'edges': []}   \n7496  7496                                      {'edges': []}   \n7497  7497                                      {'edges': []}   \n7498  7498                                      {'edges': []}   \n\n                           title.romaji  \\\nid                                        \n1                          Cowboy Bebop   \n5       Cowboy Bebop: Tengoku no Tobira   \n6                                TRIGUN   \n7                    Witch Hunter ROBIN   \n8                        Bouken Ou Beet   \n...                                 ...   \n7494  Kyouiku Otogi Manga Usagi to Kame   \n7495     Nonki na Tou-san Ryuuguu Mairi   \n7496     Saiyuuki: Son Gokuu Monogatari   \n7497                          Mikanbune   \n7498            Doubutsu Olympic Taikai   \n\n                                          title.english        title.native  \\\nid                                                                            \n1                                          Cowboy Bebop           カウボーイビバップ   \n5     Cowboy Bebop: The Movie - Knockin' on Heaven's...       カウボーイビバップ天国の扉   \n6                                                Trigun              TRIGUN   \n7                                    Witch Hunter ROBIN  Witch Hunter ROBIN   \n8                                Beet the Vandel Buster              冒険王ビィト   \n...                                                 ...                 ...   \n7494                          The Hare and the Tortoise          教育お伽漫画　兎と亀   \n7495                                               None        ノンキナトウサン竜宮参り   \n7496                                               None            西遊記孫悟空物語   \n7497                                  A Ship of Oranges                みかん船   \n7498                                               None          動物オリムピック大會   \n\n                    title.userPreferred  \nid                                       \n1                          Cowboy Bebop  \n5       Cowboy Bebop: Tengoku no Tobira  \n6                                TRIGUN  \n7                    Witch Hunter ROBIN  \n8                        Bouken Ou Beet  \n...                                 ...  \n7494  Kyouiku Otogi Manga Usagi to Kame  \n7495     Nonki na Tou-san Ryuuguu Mairi  \n7496     Saiyuuki: Son Gokuu Monogatari  \n7497                          Mikanbune  \n7498            Doubutsu Olympic Taikai  \n\n[5000 rows x 6 columns]",
      "text/html": "<div>\n<style scoped>\n    .dataframe tbody tr th:only-of-type {\n        vertical-align: middle;\n    }\n\n    .dataframe tbody tr th {\n        vertical-align: top;\n    }\n\n    .dataframe thead th {\n        text-align: right;\n    }\n</style>\n<table border=\"1\" class=\"dataframe\">\n  <thead>\n    <tr style=\"text-align: right;\">\n      <th></th>\n      <th>id</th>\n      <th>characters</th>\n      <th>title.romaji</th>\n      <th>title.english</th>\n      <th>title.native</th>\n      <th>title.userPreferred</th>\n    </tr>\n    <tr>\n      <th>id</th>\n      <th></th>\n      <th></th>\n      <th></th>\n      <th></th>\n      <th></th>\n      <th></th>\n    </tr>\n  </thead>\n  <tbody>\n    <tr>\n      <th>1</th>\n      <td>1</td>\n      <td>{'edges': [{'node': {'id': 1}, 'role': 'MAIN'}...</td>\n      <td>Cowboy Bebop</td>\n      <td>Cowboy Bebop</td>\n      <td>カウボーイビバップ</td>\n      <td>Cowboy Bebop</td>\n    </tr>\n    <tr>\n      <th>5</th>\n      <td>5</td>\n      <td>{'edges': [{'node': {'id': 1}, 'role': 'MAIN'}...</td>\n      <td>Cowboy Bebop: Tengoku no Tobira</td>\n      <td>Cowboy Bebop: The Movie - Knockin' on Heaven's...</td>\n      <td>カウボーイビバップ天国の扉</td>\n      <td>Cowboy Bebop: Tengoku no Tobira</td>\n    </tr>\n    <tr>\n      <th>6</th>\n      <td>6</td>\n      <td>{'edges': [{'node': {'id': 6750}, 'role': 'SUP...</td>\n      <td>TRIGUN</td>\n      <td>Trigun</td>\n      <td>TRIGUN</td>\n      <td>TRIGUN</td>\n    </tr>\n    <tr>\n      <th>7</th>\n      <td>7</td>\n      <td>{'edges': [{'node': {'id': 302}, 'role': 'MAIN...</td>\n      <td>Witch Hunter ROBIN</td>\n      <td>Witch Hunter ROBIN</td>\n      <td>Witch Hunter ROBIN</td>\n      <td>Witch Hunter ROBIN</td>\n    </tr>\n    <tr>\n      <th>8</th>\n      <td>8</td>\n      <td>{'edges': [{'node': {'id': 9058}, 'role': 'MAI...</td>\n      <td>Bouken Ou Beet</td>\n      <td>Beet the Vandel Buster</td>\n      <td>冒険王ビィト</td>\n      <td>Bouken Ou Beet</td>\n    </tr>\n    <tr>\n      <th>...</th>\n      <td>...</td>\n      <td>...</td>\n      <td>...</td>\n      <td>...</td>\n      <td>...</td>\n      <td>...</td>\n    </tr>\n    <tr>\n      <th>7494</th>\n      <td>7494</td>\n      <td>{'edges': []}</td>\n      <td>Kyouiku Otogi Manga Usagi to Kame</td>\n      <td>The Hare and the Tortoise</td>\n      <td>教育お伽漫画　兎と亀</td>\n      <td>Kyouiku Otogi Manga Usagi to Kame</td>\n    </tr>\n    <tr>\n      <th>7495</th>\n      <td>7495</td>\n      <td>{'edges': []}</td>\n      <td>Nonki na Tou-san Ryuuguu Mairi</td>\n      <td>None</td>\n      <td>ノンキナトウサン竜宮参り</td>\n      <td>Nonki na Tou-san Ryuuguu Mairi</td>\n    </tr>\n    <tr>\n      <th>7496</th>\n      <td>7496</td>\n      <td>{'edges': []}</td>\n      <td>Saiyuuki: Son Gokuu Monogatari</td>\n      <td>None</td>\n      <td>西遊記孫悟空物語</td>\n      <td>Saiyuuki: Son Gokuu Monogatari</td>\n    </tr>\n    <tr>\n      <th>7497</th>\n      <td>7497</td>\n      <td>{'edges': []}</td>\n      <td>Mikanbune</td>\n      <td>A Ship of Oranges</td>\n      <td>みかん船</td>\n      <td>Mikanbune</td>\n    </tr>\n    <tr>\n      <th>7498</th>\n      <td>7498</td>\n      <td>{'edges': []}</td>\n      <td>Doubutsu Olympic Taikai</td>\n      <td>None</td>\n      <td>動物オリムピック大會</td>\n      <td>Doubutsu Olympic Taikai</td>\n    </tr>\n  </tbody>\n</table>\n<p>5000 rows × 6 columns</p>\n</div>"
     },
     "execution_count": 6,
     "metadata": {},
     "output_type": "execute_result"
    }
   ],
   "source": [
    "import matplotlib.pyplot as plt\n",
    "import pandas as pd, pandas\n",
    "import ast\n",
    "import seaborn as sns\n",
    "import numpy\n",
    "\n",
    "# https://plotly.com/python/network-graphs/\n",
    "# read dataset from json file\n",
    "datasetMedias = pandas.read_json(\"../data/split/medias/medias1.json\")\n",
    "datasetStaffs = pandas.read_json(\"../data/split/staffs/staffs1.json\")\n",
    "\n",
    "\n",
    "def list_of_dicts(ld):\n",
    "    \"\"\"\n",
    "    Create a mapping of the tuples formed after\n",
    "    converting json strings of list to a python list\n",
    "    see https://stackoverflow.com/questions/39899005/how-to-flatten-a-pandas-dataframe-with-some-columns-as-json\n",
    "    \"\"\"\n",
    "    return dict([(list(d.values())[1], list(d.values())[0]) for d in ast.literal_eval(ld)])\n",
    "\n",
    "\n",
    "titles = pd.json_normalize(datasetMedias['title'].tolist()).add_prefix('title.')\n",
    "filteredMedias = datasetMedias[['id', 'characters']].join(titles)\n",
    "filteredMedias.index = filteredMedias.id\n"
   ],
   "metadata": {
    "collapsed": false
   }
  },
  {
   "cell_type": "code",
   "execution_count": null,
   "outputs": [],
   "source": [],
   "metadata": {
    "collapsed": false
   }
  }
 ],
 "metadata": {
  "kernelspec": {
   "display_name": "Python 3 (ipykernel)",
   "language": "python",
   "name": "python3"
  },
  "language_info": {
   "codemirror_mode": {
    "name": "ipython",
    "version": 3
   },
   "file_extension": ".py",
   "mimetype": "text/x-python",
   "name": "python",
   "nbconvert_exporter": "python",
   "pygments_lexer": "ipython3",
   "version": "3.11.0"
  }
 },
 "nbformat": 4,
 "nbformat_minor": 1
}
